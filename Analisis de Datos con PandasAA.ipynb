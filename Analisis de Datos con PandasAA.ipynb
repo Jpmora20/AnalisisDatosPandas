{
 "cells": [
  {
   "cell_type": "code",
   "execution_count": 6,
   "metadata": {},
   "outputs": [],
   "source": [
    "import pandas as pd"
   ]
  },
  {
   "cell_type": "code",
   "execution_count": 32,
   "metadata": {},
   "outputs": [
    {
     "name": "stdout",
     "output_type": "stream",
     "text": [
      "0    Fernando\n",
      "1     Antonio\n",
      "2        Luis\n",
      "3      Camilo\n",
      "4      Andres\n",
      "dtype: object\n"
     ]
    }
   ],
   "source": [
    "#Generar serie atravez de listas\n",
    "nombre = pd.Series(\n",
    "    [\n",
    "        \"Fernando\", \"Antonio\", \"Luis\", \"Camilo\", \"Andres\"\n",
    "    ]\n",
    ")\n",
    "print(nombre)"
   ]
  },
  {
   "cell_type": "code",
   "execution_count": 8,
   "metadata": {},
   "outputs": [
    {
     "name": "stdout",
     "output_type": "stream",
     "text": [
      "Luis\n"
     ]
    }
   ],
   "source": [
    "print(nombre[2])"
   ]
  },
  {
   "cell_type": "code",
   "execution_count": 9,
   "metadata": {},
   "outputs": [
    {
     "name": "stdout",
     "output_type": "stream",
     "text": [
      "1    Antonio\n",
      "2       Luis\n",
      "3     Camilo\n",
      "dtype: object\n"
     ]
    }
   ],
   "source": [
    "print(nombre[1:4])"
   ]
  },
  {
   "cell_type": "code",
   "execution_count": 17,
   "metadata": {},
   "outputs": [
    {
     "name": "stdout",
     "output_type": "stream",
     "text": [
      "0    23\n",
      "1    40\n",
      "2    30\n",
      "3     9\n",
      "4    65\n",
      "dtype: int64\n"
     ]
    }
   ],
   "source": [
    "edad = pd.Series(\n",
    "    [\n",
    "        23,40,30,9,65\n",
    "    ]\n",
    ")\n",
    "print(edad)"
   ]
  },
  {
   "cell_type": "code",
   "execution_count": 22,
   "metadata": {},
   "outputs": [
    {
     "ename": "TypeError",
     "evalue": "'int' object is not callable",
     "output_type": "error",
     "traceback": [
      "\u001b[1;31m---------------------------------------------------------------------------\u001b[0m",
      "\u001b[1;31mTypeError\u001b[0m                                 Traceback (most recent call last)",
      "Cell \u001b[1;32mIn[22], line 6\u001b[0m\n\u001b[0;32m      1\u001b[0m edad \u001b[38;5;241m=\u001b[39m pd\u001b[38;5;241m.\u001b[39mSeries(\n\u001b[0;32m      2\u001b[0m     [\n\u001b[0;32m      3\u001b[0m         \u001b[38;5;241m23\u001b[39m,\u001b[38;5;241m40\u001b[39m,\u001b[38;5;241m30\u001b[39m,\u001b[38;5;241m9\u001b[39m,\u001b[38;5;241m65\u001b[39m\n\u001b[0;32m      4\u001b[0m     ]\n\u001b[0;32m      5\u001b[0m )\n\u001b[1;32m----> 6\u001b[0m \u001b[38;5;28mprint\u001b[39m(\u001b[43medad\u001b[49m\u001b[38;5;241;43m.\u001b[39;49m\u001b[43msize\u001b[49m\u001b[43m(\u001b[49m\u001b[43m)\u001b[49m)\n",
      "\u001b[1;31mTypeError\u001b[0m: 'int' object is not callable"
     ]
    }
   ],
   "source": [
    "edad = pd.Series(\n",
    "    [\n",
    "        23,40,30,9,65\n",
    "    ]\n",
    ")\n",
    "print(edad.size())"
   ]
  },
  {
   "cell_type": "code",
   "execution_count": 29,
   "metadata": {},
   "outputs": [
    {
     "name": "stdout",
     "output_type": "stream",
     "text": [
      "5\n"
     ]
    }
   ],
   "source": [
    "print(edad.size)"
   ]
  },
  {
   "cell_type": "code",
   "execution_count": 31,
   "metadata": {},
   "outputs": [
    {
     "name": "stdout",
     "output_type": "stream",
     "text": [
      "RangeIndex(start=0, stop=5, step=1)\n"
     ]
    }
   ],
   "source": [
    "print(edad.index)"
   ]
  },
  {
   "cell_type": "code",
   "execution_count": 36,
   "metadata": {},
   "outputs": [
    {
     "name": "stdout",
     "output_type": "stream",
     "text": [
      "0    Fernando\n",
      "1     Antonio\n",
      "2        Luis\n",
      "3      Camilo\n",
      "4      Andres\n",
      "dtype: object\n"
     ]
    }
   ],
   "source": [
    "print(nombre.sort_index())"
   ]
  },
  {
   "cell_type": "code",
   "execution_count": 37,
   "metadata": {},
   "outputs": [],
   "source": [
    "#Crear series a partir de un diccionario\n",
    "notas_modulos = pd.Series(\n",
    "    {\n",
    "        \"Moviles\":80, \"BD\":75, \"Logica\":10, \"Web I\":60\n",
    "    }\n",
    ")"
   ]
  },
  {
   "cell_type": "code",
   "execution_count": 43,
   "metadata": {},
   "outputs": [
    {
     "data": {
      "text/plain": [
       "Moviles    80\n",
       "BD         75\n",
       "dtype: int64"
      ]
     },
     "execution_count": 43,
     "metadata": {},
     "output_type": "execute_result"
    }
   ],
   "source": [
    "#Filtrar notas mayores de 60\n",
    "\n",
    "notas_modulos[notas_modulos>60]"
   ]
  },
  {
   "cell_type": "code",
   "execution_count": 50,
   "metadata": {},
   "outputs": [
    {
     "name": "stdout",
     "output_type": "stream",
     "text": [
      "67.5\n"
     ]
    }
   ],
   "source": [
    "#Funciones\n",
    "#Filtrar nota maxima, minima y media\n",
    "print(notas_modulos.median())\n",
    "#Desviacion estandar de las notas"
   ]
  },
  {
   "cell_type": "code",
   "execution_count": null,
   "metadata": {},
   "outputs": [],
   "source": [
    "#Crar un diccionario vacio, solicitar al usuario el ingreso de la cantidad de elementos, luego debe solicitar el ingreso del nombre(clave) y la estrucutura(valor).\n",
    "#Generar un serie apartir del dirccionario creado.\n",
    "#Generar una serie que muestre la estructura maxima, minima, promedio, mediana y mostrar la informacion."
   ]
  }
 ],
 "metadata": {
  "kernelspec": {
   "display_name": "Python 3",
   "language": "python",
   "name": "python3"
  },
  "language_info": {
   "codemirror_mode": {
    "name": "ipython",
    "version": 3
   },
   "file_extension": ".py",
   "mimetype": "text/x-python",
   "name": "python",
   "nbconvert_exporter": "python",
   "pygments_lexer": "ipython3",
   "version": "3.12.1"
  }
 },
 "nbformat": 4,
 "nbformat_minor": 2
}
